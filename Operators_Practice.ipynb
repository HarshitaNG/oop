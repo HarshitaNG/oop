{
  "nbformat": 4,
  "nbformat_minor": 0,
  "metadata": {
    "colab": {
      "name": "Operators-Practice.ipynb",
      "provenance": [],
      "collapsed_sections": [],
      "include_colab_link": true
    },
    "kernelspec": {
      "name": "python3",
      "display_name": "Python 3"
    },
    "language_info": {
      "name": "python"
    }
  },
  "cells": [
    {
      "cell_type": "markdown",
      "metadata": {
        "id": "view-in-github",
        "colab_type": "text"
      },
      "source": [
        "<a href=\"https://colab.research.google.com/github/HarshitaNG/oop/blob/main/Operators_Practice.ipynb\" target=\"_parent\"><img src=\"https://colab.research.google.com/assets/colab-badge.svg\" alt=\"Open In Colab\"/></a>"
      ]
    },
    {
      "cell_type": "code",
      "metadata": {
        "id": "SGorguxW-zTb"
      },
      "source": [
        ""
      ],
      "execution_count": null,
      "outputs": []
    },
    {
      "cell_type": "markdown",
      "metadata": {
        "id": "4EQfxrpB-z_T"
      },
      "source": [
        "## Arithmetic operators\n",
        "Arithmetic operators are used to perform mathematical operations like addition, subtraction, multiplication, etc."
      ]
    },
    {
      "cell_type": "code",
      "metadata": {
        "id": "Z2cbeKQyNYeL",
        "outputId": "678664b9-c6a7-4ff5-e9ca-3ba824a26f78",
        "colab": {
          "base_uri": "https://localhost:8080/"
        }
      },
      "source": [
        "m = 15\n",
        "n = 4\n",
        "\n",
        "# Output: m + n = 19\n",
        "print('m + n =',m+n)\n",
        "\n",
        "# Output: m - n = 11\n",
        "print('m - n =',m-n)\n",
        "\n",
        "# Output: m * n = 60\n",
        "print('m * n =',m*n)\n",
        "\n",
        "# Output: m / n = 3.75\n",
        "print('m / n =',m/n)\n",
        "\n",
        "# Output: m // n = 3\n",
        "print('m // n =',m//n)\n",
        "\n",
        "# Output: m ** n = 50625\n",
        "print('m ** n =',m**n)"
      ],
      "execution_count": 1,
      "outputs": [
        {
          "output_type": "stream",
          "text": [
            "m + n = 19\n",
            "m - n = 11\n",
            "m * n = 60\n",
            "m / n = 3.75\n",
            "m // n = 3\n",
            "m ** n = 50625\n"
          ],
          "name": "stdout"
        }
      ]
    },
    {
      "cell_type": "code",
      "metadata": {
        "id": "o4CZUyil-8JG"
      },
      "source": [
        "m = 15\n",
        "n = 4\n",
        "\n",
        "# Output: m + n = 19\n",
        "print('m + n =',m+n)\n",
        "\n",
        "# Output: m - n = 11\n",
        "print('m - n =',m-n)\n",
        "\n",
        "# Output: m * n = 60\n",
        "print('m * n =',m*n)\n",
        "\n",
        "# Output: m / n = 3.75\n",
        "print('m / n =',m/n)\n",
        "\n",
        "# Output: m // n = 3\n",
        "print('m // n =',m//n)\n",
        "\n",
        "# Output: m ** n = 50625\n",
        "print('m ** n =',m**n)"
      ],
      "execution_count": null,
      "outputs": []
    },
    {
      "cell_type": "markdown",
      "metadata": {
        "id": "ZQW5vhPd-9SK"
      },
      "source": [
        "## Comparison operators\n",
        "* Comparison operators are used to compare values. It returns either True or False according to the condition."
      ]
    },
    {
      "cell_type": "code",
      "metadata": {
        "id": "0Q5uUe32Nrl7",
        "outputId": "313ebc73-f6a9-49ca-8a8d-5c3267916e55",
        "colab": {
          "base_uri": "https://localhost:8080/"
        }
      },
      "source": [
        "a = 10\n",
        "b = 12\n",
        "\n",
        "# Output: a > b is False\n",
        "print('a > b is',a>b)\n",
        "\n",
        "# Output: a < b is True\n",
        "print('a < b is',a<b)\n",
        "\n",
        "# Output: a == b is False\n",
        "print('a == b is',a==b)\n",
        "\n",
        "# Output: a != b is True\n",
        "print('a != b is',a!=b)\n",
        "\n",
        "# Output: a >= b is False\n",
        "print('a >= b is',a>=b)\n",
        "\n",
        "# Output: a <= b is True\n",
        "print('a <= b is',a<=b)"
      ],
      "execution_count": 2,
      "outputs": [
        {
          "output_type": "stream",
          "text": [
            "a > b is False\n",
            "a < b is True\n",
            "a == b is False\n",
            "a != b is True\n",
            "a >= b is False\n",
            "a <= b is True\n"
          ],
          "name": "stdout"
        }
      ]
    },
    {
      "cell_type": "code",
      "metadata": {
        "id": "nYhq1kMJ_GlD"
      },
      "source": [
        "a = 10\n",
        "b = 12\n",
        "\n",
        "# Output: a > b is False\n",
        "print('a > b is',a>b)\n",
        "\n",
        "# Output: a < b is True\n",
        "print('a < b is',a<b)\n",
        "\n",
        "# Output: a == b is False\n",
        "print('a == b is',a==b)\n",
        "\n",
        "# Output: a != b is True\n",
        "print('a != b is',a!=b)\n",
        "\n",
        "# Output: a >= b is False\n",
        "print('a >= b is',a>=b)\n",
        "\n",
        "# Output: a <= b is True\n",
        "print('a <= b is',a<=b)"
      ],
      "execution_count": null,
      "outputs": []
    },
    {
      "cell_type": "markdown",
      "metadata": {
        "id": "vEMPYgwP_J6s"
      },
      "source": [
        "## Logical operators"
      ]
    },
    {
      "cell_type": "code",
      "metadata": {
        "id": "Y-aTnjHjOpmz",
        "outputId": "6aa32e2d-9d72-4905-893c-d9dd5600c4bd",
        "colab": {
          "base_uri": "https://localhost:8080/",
          "height": 253
        }
      },
      "source": [
        "m = True\n",
        "n = False\n",
        "\n",
        "print('m and n is',m and n)\n",
        "\n",
        "print('x or y is',x or y)\n",
        "\n",
        "print('not x is',not x)"
      ],
      "execution_count": 3,
      "outputs": [
        {
          "output_type": "stream",
          "text": [
            "m and n is False\n"
          ],
          "name": "stdout"
        },
        {
          "output_type": "error",
          "ename": "NameError",
          "evalue": "ignored",
          "traceback": [
            "\u001b[0;31m---------------------------------------------------------------------------\u001b[0m",
            "\u001b[0;31mNameError\u001b[0m                                 Traceback (most recent call last)",
            "\u001b[0;32m<ipython-input-3-280a65727aea>\u001b[0m in \u001b[0;36m<module>\u001b[0;34m()\u001b[0m\n\u001b[1;32m      4\u001b[0m \u001b[0mprint\u001b[0m\u001b[0;34m(\u001b[0m\u001b[0;34m'm and n is'\u001b[0m\u001b[0;34m,\u001b[0m\u001b[0mm\u001b[0m \u001b[0;32mand\u001b[0m \u001b[0mn\u001b[0m\u001b[0;34m)\u001b[0m\u001b[0;34m\u001b[0m\u001b[0;34m\u001b[0m\u001b[0m\n\u001b[1;32m      5\u001b[0m \u001b[0;34m\u001b[0m\u001b[0m\n\u001b[0;32m----> 6\u001b[0;31m \u001b[0mprint\u001b[0m\u001b[0;34m(\u001b[0m\u001b[0;34m'x or y is'\u001b[0m\u001b[0;34m,\u001b[0m\u001b[0mx\u001b[0m \u001b[0;32mor\u001b[0m \u001b[0my\u001b[0m\u001b[0;34m)\u001b[0m\u001b[0;34m\u001b[0m\u001b[0;34m\u001b[0m\u001b[0m\n\u001b[0m\u001b[1;32m      7\u001b[0m \u001b[0;34m\u001b[0m\u001b[0m\n\u001b[1;32m      8\u001b[0m \u001b[0mprint\u001b[0m\u001b[0;34m(\u001b[0m\u001b[0;34m'not x is'\u001b[0m\u001b[0;34m,\u001b[0m\u001b[0;32mnot\u001b[0m \u001b[0mx\u001b[0m\u001b[0;34m)\u001b[0m\u001b[0;34m\u001b[0m\u001b[0;34m\u001b[0m\u001b[0m\n",
            "\u001b[0;31mNameError\u001b[0m: name 'x' is not defined"
          ]
        }
      ]
    },
    {
      "cell_type": "code",
      "metadata": {
        "id": "yOXyJUYK_Ozu"
      },
      "source": [
        "m = True\n",
        "n = False\n",
        "\n",
        "print('m and n is',m and n)\n",
        "\n",
        "print('x or y is',x or y)\n",
        "\n",
        "print('not x is',not x)"
      ],
      "execution_count": null,
      "outputs": []
    },
    {
      "cell_type": "markdown",
      "metadata": {
        "id": "9A52G8rc_Sg3"
      },
      "source": [
        "## Bitwise operators\n",
        "* Bitwise operators act on operands as if they were strings of binary digits. They operate bit by bit, hence the name.\n",
        "\n",
        "For example, 2 is 10 in binary and 7 is 111."
      ]
    },
    {
      "cell_type": "code",
      "metadata": {
        "id": "5Ih4MBYec4YI",
        "outputId": "05610252-a08c-4a92-95ed-24ced6a5ecf5",
        "colab": {
          "base_uri": "https://localhost:8080/",
          "height": 131
        }
      },
      "source": [
        "x=10\n",
        "y= 4\n",
        "x & y = 0 (0000 0000)\n",
        "x ^ y = 14 (0000 1110)\n",
        "x << 2 = 40 (0010 1000)\n",
        "x >> 2 = 2 (0000 0010)"
      ],
      "execution_count": 8,
      "outputs": [
        {
          "output_type": "error",
          "ename": "SyntaxError",
          "evalue": "ignored",
          "traceback": [
            "\u001b[0;36m  File \u001b[0;32m\"<ipython-input-8-f888f3999576>\"\u001b[0;36m, line \u001b[0;32m3\u001b[0m\n\u001b[0;31m    x & y = 0 (0000 0000)\u001b[0m\n\u001b[0m                       ^\u001b[0m\n\u001b[0;31mSyntaxError\u001b[0m\u001b[0;31m:\u001b[0m invalid syntax\n"
          ]
        }
      ]
    },
    {
      "cell_type": "code",
      "metadata": {
        "id": "cRYstBNlAEO1"
      },
      "source": [
        "x=10\n",
        "y= 4\n",
        "x & y = 0 (0000 0000)\n",
        "x ^ y = 14 (0000 1110)\n",
        "x << 2 = 40 (0010 1000)\n",
        "x >> 2 = 2 (0000 0010)"
      ],
      "execution_count": null,
      "outputs": []
    },
    {
      "cell_type": "markdown",
      "metadata": {
        "id": "HG7A4vEu_b5j"
      },
      "source": [
        "## Assignment operators\n",
        "* Assignment operators are used in Python to assign values to variables."
      ]
    },
    {
      "cell_type": "code",
      "metadata": {
        "id": "CmxOH3tM_osE",
        "outputId": "dbe76589-0dc5-4968-9bf1-21b698c216ee",
        "colab": {
          "base_uri": "https://localhost:8080/"
        }
      },
      "source": [
        "a=2\n",
        "a += 5\n",
        "a %= 5\n",
        "a **= 5\n",
        "a //= 5\n",
        "print(a)"
      ],
      "execution_count": 9,
      "outputs": [
        {
          "output_type": "stream",
          "text": [
            "6\n"
          ],
          "name": "stdout"
        }
      ]
    },
    {
      "cell_type": "markdown",
      "metadata": {
        "id": "iSfVm8PVAoqX"
      },
      "source": [
        "## Special operators\n",
        "* Python language offers some special types of operators like the identity operator or the membership operator.\n",
        "\n",
        "## Identity operators\n",
        "* is and is not are the identity operators in Python.\n",
        "* They are used to check if two values (or variables) are located on the same part of the memory.\n",
        "* Two variables that are equal does not imply that they are identical."
      ]
    },
    {
      "cell_type": "code",
      "metadata": {
        "id": "GcyRoeTIahWx",
        "outputId": "a3a28692-168e-448b-b771-062999ca3550",
        "colab": {
          "base_uri": "https://localhost:8080/"
        }
      },
      "source": [
        "x1 = 10\n",
        "y1 = 10\n",
        "x2 = 'Welcome'\n",
        "y2 = 'Welcome'\n",
        "x3 = [10,20,30]\n",
        "y3 = [10,20,30]\n",
        "\n",
        "# Output: False\n",
        "print(x1 is not y1)\n",
        "\n",
        "# Output: True\n",
        "print(x2 is y2)\n",
        "\n",
        "# Output: False\n",
        "print(x3 is y3)"
      ],
      "execution_count": 4,
      "outputs": [
        {
          "output_type": "stream",
          "text": [
            "False\n",
            "True\n",
            "False\n"
          ],
          "name": "stdout"
        }
      ]
    },
    {
      "cell_type": "code",
      "metadata": {
        "id": "oSUX8tYVAyEy"
      },
      "source": [
        "x1 = 10\n",
        "y1 = 10\n",
        "x2 = 'Welcome'\n",
        "y2 = 'Welcome'\n",
        "x3 = [10,20,30]\n",
        "y3 = [10,20,30]\n",
        "\n",
        "# Output: False\n",
        "print(x1 is not y1)\n",
        "\n",
        "# Output: True\n",
        "print(x2 is y2)\n",
        "\n",
        "# Output: False\n",
        "print(x3 is y3)"
      ],
      "execution_count": null,
      "outputs": []
    },
    {
      "cell_type": "markdown",
      "metadata": {
        "id": "t6X9rlnnA1id"
      },
      "source": [
        "## Membership operators\n",
        "* in and not in are the membership operators in Python.\n",
        "* They are used to test whether a value or variable is found in a sequence (string, tuple, set, list, dictionary)"
      ]
    },
    {
      "cell_type": "code",
      "metadata": {
        "id": "Qxcd6jPRA6h4",
        "outputId": "70123c59-c611-4655-e16c-f088913e3e29",
        "colab": {
          "base_uri": "https://localhost:8080/"
        }
      },
      "source": [
        "x = 'Hello world'\n",
        "y = {1:'a',2:'b'}\n",
        "\n",
        "# Output: True\n",
        "print('H' in x)\n",
        "\n",
        "# Output: True\n",
        "print('hello' not in x)\n",
        "\n",
        "# Output: True\n",
        "print(1 in y)\n",
        "\n",
        "# Output: False\n",
        "print('a' in y)"
      ],
      "execution_count": 10,
      "outputs": [
        {
          "output_type": "stream",
          "text": [
            "True\n",
            "True\n",
            "True\n",
            "False\n"
          ],
          "name": "stdout"
        }
      ]
    }
  ]
}